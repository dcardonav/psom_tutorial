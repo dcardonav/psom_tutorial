{
 "cells": [
  {
   "cell_type": "markdown",
   "metadata": {},
   "source": [
    "# Introduction to Pandas\n",
    "\n",
    "Python is a general purpose programming language that has gained a lot of traction because its wide variety of libraries and simple syntax. One of those libraries is **pandas**, an effort from the Python community to have a functionality similar to that of *R* native *DataFrame*; the following examples are by no means an extensive presentation of Python's data manipulation capabilities, but rather a quick introduction to get you up and running."
   ]
  },
  {
   "cell_type": "code",
   "execution_count": 1,
   "metadata": {},
   "outputs": [],
   "source": [
    "import numpy as np\n",
    "import pandas as pd\n",
    "import pyomo.environ as pyo\n",
    "import testbed\n",
    "import warnings\n",
    "warnings.filterwarnings(action='ignore')     # if getting some boring warnings\n",
    "\n",
    "dfInput = pd.read_excel('data/input_data.xlsx')"
   ]
  },
  {
   "cell_type": "code",
   "execution_count": 2,
   "metadata": {},
   "outputs": [
    {
     "data": {
      "text/plain": "            period   cap_factor       demand\ncount  8736.000000  8736.000000  8736.000000\nmean   4368.500000     0.308434   429.329240\nstd    2522.010309     0.268107   193.377389\nmin       1.000000     0.000000    18.463107\n25%    2184.750000     0.090000   259.946926\n50%    4368.500000     0.210000   437.184466\n75%    6552.250000     0.490000   585.038592\nmax    8736.000000     0.990000  1000.000000",
      "text/html": "<div>\n<style scoped>\n    .dataframe tbody tr th:only-of-type {\n        vertical-align: middle;\n    }\n\n    .dataframe tbody tr th {\n        vertical-align: top;\n    }\n\n    .dataframe thead th {\n        text-align: right;\n    }\n</style>\n<table border=\"1\" class=\"dataframe\">\n  <thead>\n    <tr style=\"text-align: right;\">\n      <th></th>\n      <th>period</th>\n      <th>cap_factor</th>\n      <th>demand</th>\n    </tr>\n  </thead>\n  <tbody>\n    <tr>\n      <th>count</th>\n      <td>8736.000000</td>\n      <td>8736.000000</td>\n      <td>8736.000000</td>\n    </tr>\n    <tr>\n      <th>mean</th>\n      <td>4368.500000</td>\n      <td>0.308434</td>\n      <td>429.329240</td>\n    </tr>\n    <tr>\n      <th>std</th>\n      <td>2522.010309</td>\n      <td>0.268107</td>\n      <td>193.377389</td>\n    </tr>\n    <tr>\n      <th>min</th>\n      <td>1.000000</td>\n      <td>0.000000</td>\n      <td>18.463107</td>\n    </tr>\n    <tr>\n      <th>25%</th>\n      <td>2184.750000</td>\n      <td>0.090000</td>\n      <td>259.946926</td>\n    </tr>\n    <tr>\n      <th>50%</th>\n      <td>4368.500000</td>\n      <td>0.210000</td>\n      <td>437.184466</td>\n    </tr>\n    <tr>\n      <th>75%</th>\n      <td>6552.250000</td>\n      <td>0.490000</td>\n      <td>585.038592</td>\n    </tr>\n    <tr>\n      <th>max</th>\n      <td>8736.000000</td>\n      <td>0.990000</td>\n      <td>1000.000000</td>\n    </tr>\n  </tbody>\n</table>\n</div>"
     },
     "execution_count": 2,
     "metadata": {},
     "output_type": "execute_result"
    }
   ],
   "source": [
    "# Basics statistics from the dataset\n",
    "dfInput.describe()"
   ]
  },
  {
   "cell_type": "code",
   "execution_count": 3,
   "metadata": {},
   "outputs": [
    {
     "data": {
      "text/plain": "    period  cap_factor      demand\n0        1        0.35  363.727832\n1        2        0.38  319.511974\n2        3        0.41  250.935275\n3        4        0.47  182.028803\n4        5        0.53  130.522977\n5        6        0.59   97.003883\n6        7        0.65   75.390615\n7        8        0.71   39.123948\n8        9        0.77   19.855016\n9       10        0.79   22.492557\n10      11        0.81   78.247896\n11      12        0.84  123.965696\n12      13        0.86  161.624272\n13      14        0.87  193.751456\n14      15        0.89  198.843366\n15      16        0.92  162.100647\n16      17        0.95  155.103560\n17      18        0.96  189.062460\n18      19        0.97  318.120065\n19      20        0.97  382.337540\n20      21        0.96  427.840129\n21      22        0.94  458.823948\n22      23        0.90  427.159223\n23      24        0.84  431.774757",
      "text/html": "<div>\n<style scoped>\n    .dataframe tbody tr th:only-of-type {\n        vertical-align: middle;\n    }\n\n    .dataframe tbody tr th {\n        vertical-align: top;\n    }\n\n    .dataframe thead th {\n        text-align: right;\n    }\n</style>\n<table border=\"1\" class=\"dataframe\">\n  <thead>\n    <tr style=\"text-align: right;\">\n      <th></th>\n      <th>period</th>\n      <th>cap_factor</th>\n      <th>demand</th>\n    </tr>\n  </thead>\n  <tbody>\n    <tr>\n      <th>0</th>\n      <td>1</td>\n      <td>0.35</td>\n      <td>363.727832</td>\n    </tr>\n    <tr>\n      <th>1</th>\n      <td>2</td>\n      <td>0.38</td>\n      <td>319.511974</td>\n    </tr>\n    <tr>\n      <th>2</th>\n      <td>3</td>\n      <td>0.41</td>\n      <td>250.935275</td>\n    </tr>\n    <tr>\n      <th>3</th>\n      <td>4</td>\n      <td>0.47</td>\n      <td>182.028803</td>\n    </tr>\n    <tr>\n      <th>4</th>\n      <td>5</td>\n      <td>0.53</td>\n      <td>130.522977</td>\n    </tr>\n    <tr>\n      <th>5</th>\n      <td>6</td>\n      <td>0.59</td>\n      <td>97.003883</td>\n    </tr>\n    <tr>\n      <th>6</th>\n      <td>7</td>\n      <td>0.65</td>\n      <td>75.390615</td>\n    </tr>\n    <tr>\n      <th>7</th>\n      <td>8</td>\n      <td>0.71</td>\n      <td>39.123948</td>\n    </tr>\n    <tr>\n      <th>8</th>\n      <td>9</td>\n      <td>0.77</td>\n      <td>19.855016</td>\n    </tr>\n    <tr>\n      <th>9</th>\n      <td>10</td>\n      <td>0.79</td>\n      <td>22.492557</td>\n    </tr>\n    <tr>\n      <th>10</th>\n      <td>11</td>\n      <td>0.81</td>\n      <td>78.247896</td>\n    </tr>\n    <tr>\n      <th>11</th>\n      <td>12</td>\n      <td>0.84</td>\n      <td>123.965696</td>\n    </tr>\n    <tr>\n      <th>12</th>\n      <td>13</td>\n      <td>0.86</td>\n      <td>161.624272</td>\n    </tr>\n    <tr>\n      <th>13</th>\n      <td>14</td>\n      <td>0.87</td>\n      <td>193.751456</td>\n    </tr>\n    <tr>\n      <th>14</th>\n      <td>15</td>\n      <td>0.89</td>\n      <td>198.843366</td>\n    </tr>\n    <tr>\n      <th>15</th>\n      <td>16</td>\n      <td>0.92</td>\n      <td>162.100647</td>\n    </tr>\n    <tr>\n      <th>16</th>\n      <td>17</td>\n      <td>0.95</td>\n      <td>155.103560</td>\n    </tr>\n    <tr>\n      <th>17</th>\n      <td>18</td>\n      <td>0.96</td>\n      <td>189.062460</td>\n    </tr>\n    <tr>\n      <th>18</th>\n      <td>19</td>\n      <td>0.97</td>\n      <td>318.120065</td>\n    </tr>\n    <tr>\n      <th>19</th>\n      <td>20</td>\n      <td>0.97</td>\n      <td>382.337540</td>\n    </tr>\n    <tr>\n      <th>20</th>\n      <td>21</td>\n      <td>0.96</td>\n      <td>427.840129</td>\n    </tr>\n    <tr>\n      <th>21</th>\n      <td>22</td>\n      <td>0.94</td>\n      <td>458.823948</td>\n    </tr>\n    <tr>\n      <th>22</th>\n      <td>23</td>\n      <td>0.90</td>\n      <td>427.159223</td>\n    </tr>\n    <tr>\n      <th>23</th>\n      <td>24</td>\n      <td>0.84</td>\n      <td>431.774757</td>\n    </tr>\n  </tbody>\n</table>\n</div>"
     },
     "execution_count": 3,
     "metadata": {},
     "output_type": "execute_result"
    }
   ],
   "source": [
    "# selecting the first 24 hours, all the columns\n",
    "# by default, the row index is an integer that starts at zero, so in this dataset period is variable like cap_factor or demand\n",
    "dfSlice = dfInput.iloc[0:24, :]  # zero based indexing, last element (24) is not returned\n",
    "dfSlice"
   ]
  },
  {
   "cell_type": "code",
   "execution_count": 4,
   "metadata": {},
   "outputs": [
    {
     "data": {
      "text/plain": "    period      demand\n0        1  363.727832\n1        2  319.511974\n2        3  250.935275\n3        4  182.028803\n4        5  130.522977\n5        6   97.003883\n6        7   75.390615\n7        8   39.123948\n8        9   19.855016\n9       10   22.492557\n10      11   78.247896\n11      12  123.965696\n12      13  161.624272\n13      14  193.751456\n14      15  198.843366\n15      16  162.100647\n16      17  155.103560\n17      18  189.062460\n18      19  318.120065\n19      20  382.337540\n20      21  427.840129\n21      22  458.823948\n22      23  427.159223\n23      24  431.774757",
      "text/html": "<div>\n<style scoped>\n    .dataframe tbody tr th:only-of-type {\n        vertical-align: middle;\n    }\n\n    .dataframe tbody tr th {\n        vertical-align: top;\n    }\n\n    .dataframe thead th {\n        text-align: right;\n    }\n</style>\n<table border=\"1\" class=\"dataframe\">\n  <thead>\n    <tr style=\"text-align: right;\">\n      <th></th>\n      <th>period</th>\n      <th>demand</th>\n    </tr>\n  </thead>\n  <tbody>\n    <tr>\n      <th>0</th>\n      <td>1</td>\n      <td>363.727832</td>\n    </tr>\n    <tr>\n      <th>1</th>\n      <td>2</td>\n      <td>319.511974</td>\n    </tr>\n    <tr>\n      <th>2</th>\n      <td>3</td>\n      <td>250.935275</td>\n    </tr>\n    <tr>\n      <th>3</th>\n      <td>4</td>\n      <td>182.028803</td>\n    </tr>\n    <tr>\n      <th>4</th>\n      <td>5</td>\n      <td>130.522977</td>\n    </tr>\n    <tr>\n      <th>5</th>\n      <td>6</td>\n      <td>97.003883</td>\n    </tr>\n    <tr>\n      <th>6</th>\n      <td>7</td>\n      <td>75.390615</td>\n    </tr>\n    <tr>\n      <th>7</th>\n      <td>8</td>\n      <td>39.123948</td>\n    </tr>\n    <tr>\n      <th>8</th>\n      <td>9</td>\n      <td>19.855016</td>\n    </tr>\n    <tr>\n      <th>9</th>\n      <td>10</td>\n      <td>22.492557</td>\n    </tr>\n    <tr>\n      <th>10</th>\n      <td>11</td>\n      <td>78.247896</td>\n    </tr>\n    <tr>\n      <th>11</th>\n      <td>12</td>\n      <td>123.965696</td>\n    </tr>\n    <tr>\n      <th>12</th>\n      <td>13</td>\n      <td>161.624272</td>\n    </tr>\n    <tr>\n      <th>13</th>\n      <td>14</td>\n      <td>193.751456</td>\n    </tr>\n    <tr>\n      <th>14</th>\n      <td>15</td>\n      <td>198.843366</td>\n    </tr>\n    <tr>\n      <th>15</th>\n      <td>16</td>\n      <td>162.100647</td>\n    </tr>\n    <tr>\n      <th>16</th>\n      <td>17</td>\n      <td>155.103560</td>\n    </tr>\n    <tr>\n      <th>17</th>\n      <td>18</td>\n      <td>189.062460</td>\n    </tr>\n    <tr>\n      <th>18</th>\n      <td>19</td>\n      <td>318.120065</td>\n    </tr>\n    <tr>\n      <th>19</th>\n      <td>20</td>\n      <td>382.337540</td>\n    </tr>\n    <tr>\n      <th>20</th>\n      <td>21</td>\n      <td>427.840129</td>\n    </tr>\n    <tr>\n      <th>21</th>\n      <td>22</td>\n      <td>458.823948</td>\n    </tr>\n    <tr>\n      <th>22</th>\n      <td>23</td>\n      <td>427.159223</td>\n    </tr>\n    <tr>\n      <th>23</th>\n      <td>24</td>\n      <td>431.774757</td>\n    </tr>\n  </tbody>\n</table>\n</div>"
     },
     "execution_count": 4,
     "metadata": {},
     "output_type": "execute_result"
    }
   ],
   "source": [
    "# selecting only the period and the demand\n",
    "dfSlice = dfInput.iloc[0:24, [0, 2]] # selecting individual elements\n",
    "dfSlice"
   ]
  },
  {
   "cell_type": "code",
   "execution_count": 5,
   "metadata": {},
   "outputs": [
    {
     "data": {
      "text/plain": "    period      demand\n0        1  363.727832\n1        2  319.511974\n2        3  250.935275\n3        4  182.028803\n4        5  130.522977\n5        6   97.003883\n6        7   75.390615\n7        8   39.123948\n8        9   19.855016\n9       10   22.492557\n10      11   78.247896\n11      12  123.965696\n12      13  161.624272\n13      14  193.751456\n14      15  198.843366\n15      16  162.100647\n16      17  155.103560\n17      18  189.062460\n18      19  318.120065\n19      20  382.337540\n20      21  427.840129\n21      22  458.823948\n22      23  427.159223\n23      24  431.774757\n24      25  335.264078",
      "text/html": "<div>\n<style scoped>\n    .dataframe tbody tr th:only-of-type {\n        vertical-align: middle;\n    }\n\n    .dataframe tbody tr th {\n        vertical-align: top;\n    }\n\n    .dataframe thead th {\n        text-align: right;\n    }\n</style>\n<table border=\"1\" class=\"dataframe\">\n  <thead>\n    <tr style=\"text-align: right;\">\n      <th></th>\n      <th>period</th>\n      <th>demand</th>\n    </tr>\n  </thead>\n  <tbody>\n    <tr>\n      <th>0</th>\n      <td>1</td>\n      <td>363.727832</td>\n    </tr>\n    <tr>\n      <th>1</th>\n      <td>2</td>\n      <td>319.511974</td>\n    </tr>\n    <tr>\n      <th>2</th>\n      <td>3</td>\n      <td>250.935275</td>\n    </tr>\n    <tr>\n      <th>3</th>\n      <td>4</td>\n      <td>182.028803</td>\n    </tr>\n    <tr>\n      <th>4</th>\n      <td>5</td>\n      <td>130.522977</td>\n    </tr>\n    <tr>\n      <th>5</th>\n      <td>6</td>\n      <td>97.003883</td>\n    </tr>\n    <tr>\n      <th>6</th>\n      <td>7</td>\n      <td>75.390615</td>\n    </tr>\n    <tr>\n      <th>7</th>\n      <td>8</td>\n      <td>39.123948</td>\n    </tr>\n    <tr>\n      <th>8</th>\n      <td>9</td>\n      <td>19.855016</td>\n    </tr>\n    <tr>\n      <th>9</th>\n      <td>10</td>\n      <td>22.492557</td>\n    </tr>\n    <tr>\n      <th>10</th>\n      <td>11</td>\n      <td>78.247896</td>\n    </tr>\n    <tr>\n      <th>11</th>\n      <td>12</td>\n      <td>123.965696</td>\n    </tr>\n    <tr>\n      <th>12</th>\n      <td>13</td>\n      <td>161.624272</td>\n    </tr>\n    <tr>\n      <th>13</th>\n      <td>14</td>\n      <td>193.751456</td>\n    </tr>\n    <tr>\n      <th>14</th>\n      <td>15</td>\n      <td>198.843366</td>\n    </tr>\n    <tr>\n      <th>15</th>\n      <td>16</td>\n      <td>162.100647</td>\n    </tr>\n    <tr>\n      <th>16</th>\n      <td>17</td>\n      <td>155.103560</td>\n    </tr>\n    <tr>\n      <th>17</th>\n      <td>18</td>\n      <td>189.062460</td>\n    </tr>\n    <tr>\n      <th>18</th>\n      <td>19</td>\n      <td>318.120065</td>\n    </tr>\n    <tr>\n      <th>19</th>\n      <td>20</td>\n      <td>382.337540</td>\n    </tr>\n    <tr>\n      <th>20</th>\n      <td>21</td>\n      <td>427.840129</td>\n    </tr>\n    <tr>\n      <th>21</th>\n      <td>22</td>\n      <td>458.823948</td>\n    </tr>\n    <tr>\n      <th>22</th>\n      <td>23</td>\n      <td>427.159223</td>\n    </tr>\n    <tr>\n      <th>23</th>\n      <td>24</td>\n      <td>431.774757</td>\n    </tr>\n    <tr>\n      <th>24</th>\n      <td>25</td>\n      <td>335.264078</td>\n    </tr>\n  </tbody>\n</table>\n</div>"
     },
     "execution_count": 5,
     "metadata": {},
     "output_type": "execute_result"
    }
   ],
   "source": [
    "# selecting only the period and the demand with .loc\n",
    "dfSlice = dfInput.loc[0:24, ['period', 'demand']]\n",
    "dfSlice"
   ]
  },
  {
   "cell_type": "code",
   "execution_count": 6,
   "metadata": {},
   "outputs": [
    {
     "data": {
      "text/plain": "     period  cap_factor      demand\n24       25        0.78  335.264078\n25       26        0.71  246.466019\n26       27        0.63  188.109709\n27       28        0.60  155.250162\n28       29        0.59  140.926861\n..      ...         ...         ...\n164     165        0.65  579.694822\n165     166        0.56  597.475405\n166     167        0.47  535.886084\n167     168        0.41  514.435922\n168     169        0.36  398.382524\n\n[145 rows x 3 columns]",
      "text/html": "<div>\n<style scoped>\n    .dataframe tbody tr th:only-of-type {\n        vertical-align: middle;\n    }\n\n    .dataframe tbody tr th {\n        vertical-align: top;\n    }\n\n    .dataframe thead th {\n        text-align: right;\n    }\n</style>\n<table border=\"1\" class=\"dataframe\">\n  <thead>\n    <tr style=\"text-align: right;\">\n      <th></th>\n      <th>period</th>\n      <th>cap_factor</th>\n      <th>demand</th>\n    </tr>\n  </thead>\n  <tbody>\n    <tr>\n      <th>24</th>\n      <td>25</td>\n      <td>0.78</td>\n      <td>335.264078</td>\n    </tr>\n    <tr>\n      <th>25</th>\n      <td>26</td>\n      <td>0.71</td>\n      <td>246.466019</td>\n    </tr>\n    <tr>\n      <th>26</th>\n      <td>27</td>\n      <td>0.63</td>\n      <td>188.109709</td>\n    </tr>\n    <tr>\n      <th>27</th>\n      <td>28</td>\n      <td>0.60</td>\n      <td>155.250162</td>\n    </tr>\n    <tr>\n      <th>28</th>\n      <td>29</td>\n      <td>0.59</td>\n      <td>140.926861</td>\n    </tr>\n    <tr>\n      <th>...</th>\n      <td>...</td>\n      <td>...</td>\n      <td>...</td>\n    </tr>\n    <tr>\n      <th>164</th>\n      <td>165</td>\n      <td>0.65</td>\n      <td>579.694822</td>\n    </tr>\n    <tr>\n      <th>165</th>\n      <td>166</td>\n      <td>0.56</td>\n      <td>597.475405</td>\n    </tr>\n    <tr>\n      <th>166</th>\n      <td>167</td>\n      <td>0.47</td>\n      <td>535.886084</td>\n    </tr>\n    <tr>\n      <th>167</th>\n      <td>168</td>\n      <td>0.41</td>\n      <td>514.435922</td>\n    </tr>\n    <tr>\n      <th>168</th>\n      <td>169</td>\n      <td>0.36</td>\n      <td>398.382524</td>\n    </tr>\n  </tbody>\n</table>\n<p>145 rows × 3 columns</p>\n</div>"
     },
     "execution_count": 6,
     "metadata": {},
     "output_type": "execute_result"
    }
   ],
   "source": [
    "# getting data for a period interval\n",
    "p_ini = 25\n",
    "p_end = p_ini + 6*24\n",
    "\n",
    "# returns the index of the elements that fulfill the logical condition; boolean values\n",
    "# mind the parenthesis (& is a bitwise operator)!!\n",
    "idx = (dfInput['period'] >= p_ini) & (dfInput['period'] <= p_end)\n",
    "dfInput[idx]"
   ]
  },
  {
   "cell_type": "code",
   "execution_count": 7,
   "metadata": {},
   "outputs": [
    {
     "name": "stdout",
     "output_type": "stream",
     "text": [
      "The data can be sliced in 52 parts of length 168 each\n"
     ]
    },
    {
     "data": {
      "text/plain": "            period   cap_factor       demand        week\ncount  8736.000000  8736.000000  8736.000000  8736.00000\nmean   4368.500000     0.308434   429.329240    26.50000\nstd    2522.010309     0.268107   193.377389    15.00919\nmin       1.000000     0.000000    18.463107     1.00000\n25%    2184.750000     0.090000   259.946926    13.75000\n50%    4368.500000     0.210000   437.184466    26.50000\n75%    6552.250000     0.490000   585.038592    39.25000\nmax    8736.000000     0.990000  1000.000000    52.00000",
      "text/html": "<div>\n<style scoped>\n    .dataframe tbody tr th:only-of-type {\n        vertical-align: middle;\n    }\n\n    .dataframe tbody tr th {\n        vertical-align: top;\n    }\n\n    .dataframe thead th {\n        text-align: right;\n    }\n</style>\n<table border=\"1\" class=\"dataframe\">\n  <thead>\n    <tr style=\"text-align: right;\">\n      <th></th>\n      <th>period</th>\n      <th>cap_factor</th>\n      <th>demand</th>\n      <th>week</th>\n    </tr>\n  </thead>\n  <tbody>\n    <tr>\n      <th>count</th>\n      <td>8736.000000</td>\n      <td>8736.000000</td>\n      <td>8736.000000</td>\n      <td>8736.00000</td>\n    </tr>\n    <tr>\n      <th>mean</th>\n      <td>4368.500000</td>\n      <td>0.308434</td>\n      <td>429.329240</td>\n      <td>26.50000</td>\n    </tr>\n    <tr>\n      <th>std</th>\n      <td>2522.010309</td>\n      <td>0.268107</td>\n      <td>193.377389</td>\n      <td>15.00919</td>\n    </tr>\n    <tr>\n      <th>min</th>\n      <td>1.000000</td>\n      <td>0.000000</td>\n      <td>18.463107</td>\n      <td>1.00000</td>\n    </tr>\n    <tr>\n      <th>25%</th>\n      <td>2184.750000</td>\n      <td>0.090000</td>\n      <td>259.946926</td>\n      <td>13.75000</td>\n    </tr>\n    <tr>\n      <th>50%</th>\n      <td>4368.500000</td>\n      <td>0.210000</td>\n      <td>437.184466</td>\n      <td>26.50000</td>\n    </tr>\n    <tr>\n      <th>75%</th>\n      <td>6552.250000</td>\n      <td>0.490000</td>\n      <td>585.038592</td>\n      <td>39.25000</td>\n    </tr>\n    <tr>\n      <th>max</th>\n      <td>8736.000000</td>\n      <td>0.990000</td>\n      <td>1000.000000</td>\n      <td>52.00000</td>\n    </tr>\n  </tbody>\n</table>\n</div>"
     },
     "execution_count": 7,
     "metadata": {},
     "output_type": "execute_result"
    }
   ],
   "source": [
    "# Creating new columns, for example let us divide the data by weeks\n",
    "slice_length = 168\n",
    "n_slices = np.ceil(dfInput.period.max()/slice_length) # the last block might be incomplete\n",
    "print(f'The data can be sliced in {n_slices:.0f} parts of length {slice_length:.0f} each')\n",
    "\n",
    "# creating the week, this works for any length\n",
    "# mind the double-slash for integer division\n",
    "dfInput['week'] = (dfInput['period']-1)//slice_length + 1\n",
    "dfInput.describe()"
   ]
  },
  {
   "cell_type": "code",
   "execution_count": 8,
   "metadata": {},
   "outputs": [
    {
     "name": "stdout",
     "output_type": "stream",
     "text": [
      "week\n",
      "1     425.224172\n",
      "2     533.409961\n",
      "3     522.191418\n",
      "4     593.112515\n",
      "5     581.111625\n",
      "6     510.466420\n",
      "7     444.339276\n",
      "8     468.721677\n",
      "9     416.017896\n",
      "10    427.068364\n",
      "11    420.769799\n",
      "12    468.906029\n",
      "13    474.524574\n",
      "14    368.209688\n",
      "15    391.014161\n",
      "16    359.324301\n",
      "17    351.874272\n",
      "18    291.074364\n",
      "19    369.707468\n",
      "20    371.366929\n",
      "21    371.026566\n",
      "22    367.213490\n",
      "23    392.604720\n",
      "24    400.659921\n",
      "25    406.858830\n",
      "26    424.732272\n",
      "27    446.525653\n",
      "28    459.891349\n",
      "29    453.298615\n",
      "30    462.578945\n",
      "31    467.534323\n",
      "32    351.361997\n",
      "33    295.251437\n",
      "34    312.824998\n",
      "35    403.283944\n",
      "36    424.918271\n",
      "37    386.765565\n",
      "38    383.634177\n",
      "39    373.932842\n",
      "40    392.295675\n",
      "41    330.197311\n",
      "42    376.363301\n",
      "43    398.567430\n",
      "44    366.864195\n",
      "45    443.504458\n",
      "46    512.440428\n",
      "47    526.171515\n",
      "48    557.188369\n",
      "49    463.470371\n",
      "50    594.733430\n",
      "51    594.627672\n",
      "52    395.363521\n",
      "Name: demand, dtype: float64\n"
     ]
    }
   ],
   "source": [
    "# some simple calculations\n",
    "\n",
    "# average weekly demand\n",
    "print(dfInput.groupby(by=['week'])['demand'].mean())\n",
    "\n"
   ]
  },
  {
   "cell_type": "code",
   "execution_count": 9,
   "metadata": {},
   "outputs": [
    {
     "data": {
      "text/plain": "    week_  demand_mean   demand_max  cap_factor_mean  cap_factor_max\n0       1   425.224172   750.276052         0.653869            0.98\n1       2   533.409961   821.360841         0.365179            0.86\n2       3   522.191418   818.826214         0.493869            0.80\n3       4   593.112515   935.573463         0.766845            0.97\n4       5   581.111625   905.232686         0.663393            0.99\n5       6   510.466420   813.113592         0.846845            0.99\n6       7   444.339276   698.031068         0.462024            0.97\n7       8   468.721677   744.866019         0.479762            0.83\n8       9   416.017896   683.163430         0.649167            0.99\n9      10   427.068364   703.667961         0.258452            0.92\n10     11   420.769799   688.989320         0.142083            0.39\n11     12   468.906029   799.078317         0.441964            0.97\n12     13   474.524574   756.290939         0.461905            0.92\n13     14   368.209688   687.740777         0.246726            0.77\n14     15   391.014161   665.193528         0.155000            0.42\n15     16   359.324301   607.046926         0.069464            0.37\n16     17   351.874272   595.697411         0.445952            0.89\n17     18   291.074364   583.742718         0.248452            0.68\n18     19   369.707468   616.844984         0.145833            0.49\n19     20   371.366929   657.551456         0.285060            0.78\n20     21   371.026566   626.681230         0.359345            0.89\n21     22   367.213490   611.435275         0.117024            0.49\n22     23   392.604720   683.238835         0.228333            0.77\n23     24   400.659921   671.473463         0.227917            0.62\n24     25   406.858830   666.177023         0.151310            0.45\n25     26   424.732272   696.063754         0.212500            0.70\n26     27   446.525653   745.509061         0.175952            0.55\n27     28   459.891349   768.094498         0.232381            0.52\n28     29   453.298615   759.657929         0.226786            0.74\n29     30   462.578945   777.211650         0.127440            0.54\n30     31   467.534323   773.958252         0.075179            0.19\n31     32   351.361997   621.574110         0.102619            0.81\n32     33   295.251437   517.311003         0.215952            0.89\n33     34   312.824998   537.588673         0.098988            0.31\n34     35   403.283944   718.989644         0.154821            0.35\n35     36   424.918271   693.604854         0.092262            0.26\n36     37   386.765565   672.797411         0.151250            0.60\n37     38   383.634177   658.988997         0.250952            0.58\n38     39   373.932842   633.755663         0.108988            0.36\n39     40   392.295675   667.501294         0.199524            0.53\n40     41   330.197311   648.699029         0.249643            0.87\n41     42   376.363301   664.512621         0.388869            0.78\n42     43   398.567430   691.069903         0.121250            0.34\n43     44   366.864195   689.443366         0.312262            0.95\n44     45   443.504458   720.540453         0.504286            0.87\n45     46   512.440428   806.795793         0.583810            0.95\n46     47   526.171515   821.928155         0.239345            0.55\n47     48   557.188369   867.779935         0.471964            0.89\n48     49   463.470371   807.098382         0.353393            0.86\n49     50   594.733430   916.052427         0.395774            0.80\n50     51   594.627672  1000.000000         0.243512            0.80\n51     52   395.363521   713.390615         0.383095            0.93",
      "text/html": "<div>\n<style scoped>\n    .dataframe tbody tr th:only-of-type {\n        vertical-align: middle;\n    }\n\n    .dataframe tbody tr th {\n        vertical-align: top;\n    }\n\n    .dataframe thead th {\n        text-align: right;\n    }\n</style>\n<table border=\"1\" class=\"dataframe\">\n  <thead>\n    <tr style=\"text-align: right;\">\n      <th></th>\n      <th>week_</th>\n      <th>demand_mean</th>\n      <th>demand_max</th>\n      <th>cap_factor_mean</th>\n      <th>cap_factor_max</th>\n    </tr>\n  </thead>\n  <tbody>\n    <tr>\n      <th>0</th>\n      <td>1</td>\n      <td>425.224172</td>\n      <td>750.276052</td>\n      <td>0.653869</td>\n      <td>0.98</td>\n    </tr>\n    <tr>\n      <th>1</th>\n      <td>2</td>\n      <td>533.409961</td>\n      <td>821.360841</td>\n      <td>0.365179</td>\n      <td>0.86</td>\n    </tr>\n    <tr>\n      <th>2</th>\n      <td>3</td>\n      <td>522.191418</td>\n      <td>818.826214</td>\n      <td>0.493869</td>\n      <td>0.80</td>\n    </tr>\n    <tr>\n      <th>3</th>\n      <td>4</td>\n      <td>593.112515</td>\n      <td>935.573463</td>\n      <td>0.766845</td>\n      <td>0.97</td>\n    </tr>\n    <tr>\n      <th>4</th>\n      <td>5</td>\n      <td>581.111625</td>\n      <td>905.232686</td>\n      <td>0.663393</td>\n      <td>0.99</td>\n    </tr>\n    <tr>\n      <th>5</th>\n      <td>6</td>\n      <td>510.466420</td>\n      <td>813.113592</td>\n      <td>0.846845</td>\n      <td>0.99</td>\n    </tr>\n    <tr>\n      <th>6</th>\n      <td>7</td>\n      <td>444.339276</td>\n      <td>698.031068</td>\n      <td>0.462024</td>\n      <td>0.97</td>\n    </tr>\n    <tr>\n      <th>7</th>\n      <td>8</td>\n      <td>468.721677</td>\n      <td>744.866019</td>\n      <td>0.479762</td>\n      <td>0.83</td>\n    </tr>\n    <tr>\n      <th>8</th>\n      <td>9</td>\n      <td>416.017896</td>\n      <td>683.163430</td>\n      <td>0.649167</td>\n      <td>0.99</td>\n    </tr>\n    <tr>\n      <th>9</th>\n      <td>10</td>\n      <td>427.068364</td>\n      <td>703.667961</td>\n      <td>0.258452</td>\n      <td>0.92</td>\n    </tr>\n    <tr>\n      <th>10</th>\n      <td>11</td>\n      <td>420.769799</td>\n      <td>688.989320</td>\n      <td>0.142083</td>\n      <td>0.39</td>\n    </tr>\n    <tr>\n      <th>11</th>\n      <td>12</td>\n      <td>468.906029</td>\n      <td>799.078317</td>\n      <td>0.441964</td>\n      <td>0.97</td>\n    </tr>\n    <tr>\n      <th>12</th>\n      <td>13</td>\n      <td>474.524574</td>\n      <td>756.290939</td>\n      <td>0.461905</td>\n      <td>0.92</td>\n    </tr>\n    <tr>\n      <th>13</th>\n      <td>14</td>\n      <td>368.209688</td>\n      <td>687.740777</td>\n      <td>0.246726</td>\n      <td>0.77</td>\n    </tr>\n    <tr>\n      <th>14</th>\n      <td>15</td>\n      <td>391.014161</td>\n      <td>665.193528</td>\n      <td>0.155000</td>\n      <td>0.42</td>\n    </tr>\n    <tr>\n      <th>15</th>\n      <td>16</td>\n      <td>359.324301</td>\n      <td>607.046926</td>\n      <td>0.069464</td>\n      <td>0.37</td>\n    </tr>\n    <tr>\n      <th>16</th>\n      <td>17</td>\n      <td>351.874272</td>\n      <td>595.697411</td>\n      <td>0.445952</td>\n      <td>0.89</td>\n    </tr>\n    <tr>\n      <th>17</th>\n      <td>18</td>\n      <td>291.074364</td>\n      <td>583.742718</td>\n      <td>0.248452</td>\n      <td>0.68</td>\n    </tr>\n    <tr>\n      <th>18</th>\n      <td>19</td>\n      <td>369.707468</td>\n      <td>616.844984</td>\n      <td>0.145833</td>\n      <td>0.49</td>\n    </tr>\n    <tr>\n      <th>19</th>\n      <td>20</td>\n      <td>371.366929</td>\n      <td>657.551456</td>\n      <td>0.285060</td>\n      <td>0.78</td>\n    </tr>\n    <tr>\n      <th>20</th>\n      <td>21</td>\n      <td>371.026566</td>\n      <td>626.681230</td>\n      <td>0.359345</td>\n      <td>0.89</td>\n    </tr>\n    <tr>\n      <th>21</th>\n      <td>22</td>\n      <td>367.213490</td>\n      <td>611.435275</td>\n      <td>0.117024</td>\n      <td>0.49</td>\n    </tr>\n    <tr>\n      <th>22</th>\n      <td>23</td>\n      <td>392.604720</td>\n      <td>683.238835</td>\n      <td>0.228333</td>\n      <td>0.77</td>\n    </tr>\n    <tr>\n      <th>23</th>\n      <td>24</td>\n      <td>400.659921</td>\n      <td>671.473463</td>\n      <td>0.227917</td>\n      <td>0.62</td>\n    </tr>\n    <tr>\n      <th>24</th>\n      <td>25</td>\n      <td>406.858830</td>\n      <td>666.177023</td>\n      <td>0.151310</td>\n      <td>0.45</td>\n    </tr>\n    <tr>\n      <th>25</th>\n      <td>26</td>\n      <td>424.732272</td>\n      <td>696.063754</td>\n      <td>0.212500</td>\n      <td>0.70</td>\n    </tr>\n    <tr>\n      <th>26</th>\n      <td>27</td>\n      <td>446.525653</td>\n      <td>745.509061</td>\n      <td>0.175952</td>\n      <td>0.55</td>\n    </tr>\n    <tr>\n      <th>27</th>\n      <td>28</td>\n      <td>459.891349</td>\n      <td>768.094498</td>\n      <td>0.232381</td>\n      <td>0.52</td>\n    </tr>\n    <tr>\n      <th>28</th>\n      <td>29</td>\n      <td>453.298615</td>\n      <td>759.657929</td>\n      <td>0.226786</td>\n      <td>0.74</td>\n    </tr>\n    <tr>\n      <th>29</th>\n      <td>30</td>\n      <td>462.578945</td>\n      <td>777.211650</td>\n      <td>0.127440</td>\n      <td>0.54</td>\n    </tr>\n    <tr>\n      <th>30</th>\n      <td>31</td>\n      <td>467.534323</td>\n      <td>773.958252</td>\n      <td>0.075179</td>\n      <td>0.19</td>\n    </tr>\n    <tr>\n      <th>31</th>\n      <td>32</td>\n      <td>351.361997</td>\n      <td>621.574110</td>\n      <td>0.102619</td>\n      <td>0.81</td>\n    </tr>\n    <tr>\n      <th>32</th>\n      <td>33</td>\n      <td>295.251437</td>\n      <td>517.311003</td>\n      <td>0.215952</td>\n      <td>0.89</td>\n    </tr>\n    <tr>\n      <th>33</th>\n      <td>34</td>\n      <td>312.824998</td>\n      <td>537.588673</td>\n      <td>0.098988</td>\n      <td>0.31</td>\n    </tr>\n    <tr>\n      <th>34</th>\n      <td>35</td>\n      <td>403.283944</td>\n      <td>718.989644</td>\n      <td>0.154821</td>\n      <td>0.35</td>\n    </tr>\n    <tr>\n      <th>35</th>\n      <td>36</td>\n      <td>424.918271</td>\n      <td>693.604854</td>\n      <td>0.092262</td>\n      <td>0.26</td>\n    </tr>\n    <tr>\n      <th>36</th>\n      <td>37</td>\n      <td>386.765565</td>\n      <td>672.797411</td>\n      <td>0.151250</td>\n      <td>0.60</td>\n    </tr>\n    <tr>\n      <th>37</th>\n      <td>38</td>\n      <td>383.634177</td>\n      <td>658.988997</td>\n      <td>0.250952</td>\n      <td>0.58</td>\n    </tr>\n    <tr>\n      <th>38</th>\n      <td>39</td>\n      <td>373.932842</td>\n      <td>633.755663</td>\n      <td>0.108988</td>\n      <td>0.36</td>\n    </tr>\n    <tr>\n      <th>39</th>\n      <td>40</td>\n      <td>392.295675</td>\n      <td>667.501294</td>\n      <td>0.199524</td>\n      <td>0.53</td>\n    </tr>\n    <tr>\n      <th>40</th>\n      <td>41</td>\n      <td>330.197311</td>\n      <td>648.699029</td>\n      <td>0.249643</td>\n      <td>0.87</td>\n    </tr>\n    <tr>\n      <th>41</th>\n      <td>42</td>\n      <td>376.363301</td>\n      <td>664.512621</td>\n      <td>0.388869</td>\n      <td>0.78</td>\n    </tr>\n    <tr>\n      <th>42</th>\n      <td>43</td>\n      <td>398.567430</td>\n      <td>691.069903</td>\n      <td>0.121250</td>\n      <td>0.34</td>\n    </tr>\n    <tr>\n      <th>43</th>\n      <td>44</td>\n      <td>366.864195</td>\n      <td>689.443366</td>\n      <td>0.312262</td>\n      <td>0.95</td>\n    </tr>\n    <tr>\n      <th>44</th>\n      <td>45</td>\n      <td>443.504458</td>\n      <td>720.540453</td>\n      <td>0.504286</td>\n      <td>0.87</td>\n    </tr>\n    <tr>\n      <th>45</th>\n      <td>46</td>\n      <td>512.440428</td>\n      <td>806.795793</td>\n      <td>0.583810</td>\n      <td>0.95</td>\n    </tr>\n    <tr>\n      <th>46</th>\n      <td>47</td>\n      <td>526.171515</td>\n      <td>821.928155</td>\n      <td>0.239345</td>\n      <td>0.55</td>\n    </tr>\n    <tr>\n      <th>47</th>\n      <td>48</td>\n      <td>557.188369</td>\n      <td>867.779935</td>\n      <td>0.471964</td>\n      <td>0.89</td>\n    </tr>\n    <tr>\n      <th>48</th>\n      <td>49</td>\n      <td>463.470371</td>\n      <td>807.098382</td>\n      <td>0.353393</td>\n      <td>0.86</td>\n    </tr>\n    <tr>\n      <th>49</th>\n      <td>50</td>\n      <td>594.733430</td>\n      <td>916.052427</td>\n      <td>0.395774</td>\n      <td>0.80</td>\n    </tr>\n    <tr>\n      <th>50</th>\n      <td>51</td>\n      <td>594.627672</td>\n      <td>1000.000000</td>\n      <td>0.243512</td>\n      <td>0.80</td>\n    </tr>\n    <tr>\n      <th>51</th>\n      <td>52</td>\n      <td>395.363521</td>\n      <td>713.390615</td>\n      <td>0.383095</td>\n      <td>0.93</td>\n    </tr>\n  </tbody>\n</table>\n</div>"
     },
     "execution_count": 9,
     "metadata": {},
     "output_type": "execute_result"
    }
   ],
   "source": [
    "# aggregations in a more general way\n",
    "dfAgg = dfInput.groupby(by='week').agg({'demand': ['mean', 'max'],\n",
    "                                        'cap_factor': ['mean', 'max']})\n",
    "dfAgg.reset_index(drop=False, inplace=True) # to have the week as a data column and not as index\n",
    "dfAgg.columns = ['_'.join(col) for col in dfAgg.columns]  # some tweaking to avoid indexing issues\n",
    "dfAgg"
   ]
  },
  {
   "cell_type": "code",
   "execution_count": 10,
   "metadata": {},
   "outputs": [],
   "source": [
    "# exporting data is as easy as loading it\n",
    "# idx comes from a previous cell and has the first six weeks of data\n",
    "dfSlice = dfInput[idx]\n",
    "\n",
    "# Excel\n",
    "# the index option is to avoid having that extra column with the row index\n",
    "dfSlice.to_excel('output.xlsx', index=False)\n",
    "dfAgg.to_excel('grouped_data.xlsx', index=False)\n",
    "\n",
    "# CSV file\n",
    "# sep is to separate columns, while decimal is the decimal symbol to export the data\n",
    "dfSlice.to_csv('output.csv', index=False, sep=';', decimal=',')"
   ]
  },
  {
   "cell_type": "code",
   "execution_count": 11,
   "outputs": [
    {
     "name": "stdout",
     "output_type": "stream",
     "text": [
      "WARNING: Could not locate the 'glpsol' executable, which is required for\n",
      "    solver 'glpk'\n"
     ]
    },
    {
     "ename": "ApplicationError",
     "evalue": "No executable found for solver 'glpk'",
     "output_type": "error",
     "traceback": [
      "\u001B[1;31m---------------------------------------------------------------------------\u001B[0m",
      "\u001B[1;31mApplicationError\u001B[0m                          Traceback (most recent call last)",
      "Cell \u001B[1;32mIn[11], line 2\u001B[0m\n\u001B[0;32m      1\u001B[0m slvr \u001B[38;5;241m=\u001B[39m \u001B[38;5;124m'\u001B[39m\u001B[38;5;124mglpk\u001B[39m\u001B[38;5;124m'\u001B[39m     \u001B[38;5;66;03m# change according to the solver installed on your machine\u001B[39;00m\n\u001B[1;32m----> 2\u001B[0m results_complete \u001B[38;5;241m=\u001B[39m \u001B[43mtestbed\u001B[49m\u001B[38;5;241;43m.\u001B[39;49m\u001B[43mrun_complete_case\u001B[49m\u001B[43m(\u001B[49m\u001B[43mfolder\u001B[49m\u001B[38;5;241;43m=\u001B[39;49m\u001B[38;5;124;43m'\u001B[39;49m\u001B[38;5;124;43mdata\u001B[39;49m\u001B[38;5;124;43m'\u001B[39;49m\u001B[43m,\u001B[49m\u001B[43m \u001B[49m\u001B[43mcase\u001B[49m\u001B[38;5;241;43m=\u001B[39;49m\u001B[38;5;124;43m'\u001B[39;49m\u001B[38;5;124;43mcomplete_single_node.xlsx\u001B[39;49m\u001B[38;5;124;43m'\u001B[39;49m\u001B[43m,\u001B[49m\u001B[43m \u001B[49m\u001B[43msolver\u001B[49m\u001B[38;5;241;43m=\u001B[39;49m\u001B[43mslvr\u001B[49m\u001B[43m)\u001B[49m\n",
      "File \u001B[1;32m~\\repos\\winter_school\\winter_school\\testbed.py:258\u001B[0m, in \u001B[0;36mrun_complete_case\u001B[1;34m(case, folder, solver)\u001B[0m\n\u001B[0;32m    256\u001B[0m model \u001B[38;5;241m=\u001B[39m create_complete_model(data)\n\u001B[0;32m    257\u001B[0m solved \u001B[38;5;241m=\u001B[39m pyo\u001B[38;5;241m.\u001B[39mSolverFactory(solver, solver_io\u001B[38;5;241m=\u001B[39m\u001B[38;5;124m\"\u001B[39m\u001B[38;5;124mlp\u001B[39m\u001B[38;5;124m\"\u001B[39m)\n\u001B[1;32m--> 258\u001B[0m res \u001B[38;5;241m=\u001B[39m \u001B[43msolved\u001B[49m\u001B[38;5;241;43m.\u001B[39;49m\u001B[43msolve\u001B[49m\u001B[43m(\u001B[49m\u001B[43mmodel\u001B[49m\u001B[43m)\u001B[49m\n\u001B[0;32m    260\u001B[0m \u001B[38;5;28;01mreturn\u001B[39;00m model\n",
      "File \u001B[1;32m~\\Anaconda3\\envs\\winter_school\\lib\\site-packages\\pyomo\\opt\\base\\solvers.py:513\u001B[0m, in \u001B[0;36mOptSolver.solve\u001B[1;34m(self, *args, **kwds)\u001B[0m\n\u001B[0;32m    510\u001B[0m \u001B[38;5;28;01mdef\u001B[39;00m \u001B[38;5;21msolve\u001B[39m(\u001B[38;5;28mself\u001B[39m, \u001B[38;5;241m*\u001B[39margs, \u001B[38;5;241m*\u001B[39m\u001B[38;5;241m*\u001B[39mkwds):\n\u001B[0;32m    511\u001B[0m     \u001B[38;5;124;03m\"\"\" Solve the problem \"\"\"\u001B[39;00m\n\u001B[1;32m--> 513\u001B[0m     \u001B[38;5;28;43mself\u001B[39;49m\u001B[38;5;241;43m.\u001B[39;49m\u001B[43mavailable\u001B[49m\u001B[43m(\u001B[49m\u001B[43mexception_flag\u001B[49m\u001B[38;5;241;43m=\u001B[39;49m\u001B[38;5;28;43;01mTrue\u001B[39;49;00m\u001B[43m)\u001B[49m\n\u001B[0;32m    514\u001B[0m     \u001B[38;5;66;03m#\u001B[39;00m\n\u001B[0;32m    515\u001B[0m     \u001B[38;5;66;03m# If the inputs are models, then validate that they have been\u001B[39;00m\n\u001B[0;32m    516\u001B[0m     \u001B[38;5;66;03m# constructed! Collect suffix names to try and import from solution.\u001B[39;00m\n\u001B[0;32m    517\u001B[0m     \u001B[38;5;66;03m#\u001B[39;00m\n\u001B[0;32m    518\u001B[0m     \u001B[38;5;28;01mfrom\u001B[39;00m \u001B[38;5;21;01mpyomo\u001B[39;00m\u001B[38;5;21;01m.\u001B[39;00m\u001B[38;5;21;01mcore\u001B[39;00m\u001B[38;5;21;01m.\u001B[39;00m\u001B[38;5;21;01mbase\u001B[39;00m\u001B[38;5;21;01m.\u001B[39;00m\u001B[38;5;21;01mblock\u001B[39;00m \u001B[38;5;28;01mimport\u001B[39;00m _BlockData\n",
      "File \u001B[1;32m~\\Anaconda3\\envs\\winter_school\\lib\\site-packages\\pyomo\\opt\\solver\\shellcmd.py:139\u001B[0m, in \u001B[0;36mSystemCallSolver.available\u001B[1;34m(self, exception_flag)\u001B[0m\n\u001B[0;32m    137\u001B[0m     \u001B[38;5;28;01mif\u001B[39;00m exception_flag:\n\u001B[0;32m    138\u001B[0m         msg \u001B[38;5;241m=\u001B[39m \u001B[38;5;124m\"\u001B[39m\u001B[38;5;124mNo executable found for solver \u001B[39m\u001B[38;5;124m'\u001B[39m\u001B[38;5;132;01m%s\u001B[39;00m\u001B[38;5;124m'\u001B[39m\u001B[38;5;124m\"\u001B[39m\n\u001B[1;32m--> 139\u001B[0m         \u001B[38;5;28;01mraise\u001B[39;00m ApplicationError(msg \u001B[38;5;241m%\u001B[39m \u001B[38;5;28mself\u001B[39m\u001B[38;5;241m.\u001B[39mname)\n\u001B[0;32m    140\u001B[0m     \u001B[38;5;28;01mreturn\u001B[39;00m \u001B[38;5;28;01mFalse\u001B[39;00m\n\u001B[0;32m    141\u001B[0m \u001B[38;5;28;01mreturn\u001B[39;00m \u001B[38;5;28;01mTrue\u001B[39;00m\n",
      "\u001B[1;31mApplicationError\u001B[0m: No executable found for solver 'glpk'"
     ]
    }
   ],
   "source": [
    "slvr = 'gurobi'     # change according to the solver installed on your machine\n",
    "results_complete = testbed.run_complete_case(folder='data', case='complete_single_node.xlsx', solver=slvr)"
   ],
   "metadata": {
    "collapsed": false
   }
  },
  {
   "cell_type": "code",
   "execution_count": null,
   "outputs": [],
   "source": [
    "results_complete"
   ],
   "metadata": {
    "collapsed": false
   }
  },
  {
   "cell_type": "markdown",
   "source": [],
   "metadata": {
    "collapsed": false
   }
  },
  {
   "cell_type": "code",
   "execution_count": null,
   "outputs": [],
   "source": [],
   "metadata": {
    "collapsed": false
   }
  }
 ],
 "metadata": {
  "kernelspec": {
   "display_name": "Python 3 (ipykernel)",
   "language": "python",
   "name": "python3"
  },
  "language_info": {
   "codemirror_mode": {
    "name": "ipython",
    "version": 3
   },
   "file_extension": ".py",
   "mimetype": "text/x-python",
   "name": "python",
   "nbconvert_exporter": "python",
   "pygments_lexer": "ipython3",
   "version": "3.9.16"
  }
 },
 "nbformat": 4,
 "nbformat_minor": 1
}
