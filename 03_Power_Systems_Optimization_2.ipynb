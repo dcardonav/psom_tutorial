{
 "cells": [
  {
   "cell_type": "markdown",
   "metadata": {},
   "source": [
    "# Aggregation of Power System Optimization Models - Part II\n",
    "\n",
    "Now we consider the following system\n",
    "\n",
    "\n",
    "assuming that:\n",
    "- we model the system as a Network Flow rather than a Power Flow\n",
    "- there are no losses"
   ]
  },
  {
   "cell_type": "code",
   "execution_count": null,
   "metadata": {},
   "outputs": [],
   "source": [
    "import testbed_three_buses\n",
    "\n",
    "case = 'complete_three_buses.xlsx'\n",
    "\n",
    "model = testbed_three_buses.run_complete_case(case)\n",
    "testbed_three_buses.export_complete_solution(model, 'complete_three_buses')\n",
    "testbed_three_buses.extract_duals(model, 'complete_three_buses')"
   ]
  }
 ],
 "metadata": {
  "kernelspec": {
   "display_name": "Python 3 (ipykernel)",
   "language": "python",
   "name": "python3"
  },
  "language_info": {
   "codemirror_mode": {
    "name": "ipython",
    "version": 3
   },
   "file_extension": ".py",
   "mimetype": "text/x-python",
   "name": "python",
   "nbconvert_exporter": "python",
   "pygments_lexer": "ipython3",
   "version": "3.9.16"
  }
 },
 "nbformat": 4,
 "nbformat_minor": 1
}
