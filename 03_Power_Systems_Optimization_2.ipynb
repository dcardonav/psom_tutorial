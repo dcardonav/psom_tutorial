{
 "cells": [
  {
   "cell_type": "markdown",
   "metadata": {},
   "source": [
    "# Aggregation of Power System Optimization Models - Part II\n",
    "\n",
    "There is an optimal way of doing this aggregation for this model using the basis oriented approach."
   ]
  },
  {
   "cell_type": "markdown",
   "source": [
    "### Marginal Costs\n",
    "Let us have a look to the marginal costs in the complete solution"
   ],
   "metadata": {
    "collapsed": false
   }
  },
  {
   "cell_type": "code",
   "execution_count": null,
   "outputs": [],
   "source": [
    "import testbed\n",
    "import pandas as pd\n",
    "\n",
    "from importlib import reload"
   ],
   "metadata": {
    "collapsed": false
   }
  },
  {
   "cell_type": "code",
   "execution_count": null,
   "outputs": [],
   "source": [
    "# We can export the variables, first create a folder and then export the results\n",
    "slvr = 'gurobi'     # change according to the solver installed in your machine\n",
    "reload(testbed)\n",
    "\n",
    "results_complete = testbed.run_complete_case(folder='data', case='complete_single_node.xlsx', solver=slvr)\n",
    "\n",
    "# exporting the duals\n",
    "df_duals_complete = testbed.extract_duals(model=results_complete, folder='complete_single_node')"
   ],
   "metadata": {
    "collapsed": false
   }
  },
  {
   "cell_type": "markdown",
   "source": [
    "### Grouping the Hours\n",
    "Now let's group together the hours with the same marginal cost"
   ],
   "metadata": {
    "collapsed": false
   }
  },
  {
   "cell_type": "code",
   "execution_count": null,
   "outputs": [],
   "source": [],
   "metadata": {
    "collapsed": false
   }
  },
  {
   "cell_type": "markdown",
   "source": [
    "### Centroid Calculation\n",
    "For each of these groups, calculate a centroid"
   ],
   "metadata": {
    "collapsed": false
   }
  },
  {
   "cell_type": "code",
   "execution_count": null,
   "outputs": [],
   "source": [],
   "metadata": {
    "collapsed": false
   }
  },
  {
   "cell_type": "markdown",
   "source": [
    "### Aggregated Model\n",
    "Create an aggregated model using the centroids, in this case the weights are the number of hours that correspond to that marginal cost"
   ],
   "metadata": {
    "collapsed": false
   }
  },
  {
   "cell_type": "code",
   "execution_count": null,
   "outputs": [],
   "source": [],
   "metadata": {
    "collapsed": false
   }
  },
  {
   "cell_type": "markdown",
   "source": [
    "### Running the Models\n",
    "Now is time to run the aggregated and compare its results with the complete one"
   ],
   "metadata": {
    "collapsed": false
   }
  },
  {
   "cell_type": "code",
   "execution_count": null,
   "outputs": [],
   "source": [],
   "metadata": {
    "collapsed": false
   }
  }
 ],
 "metadata": {
  "kernelspec": {
   "display_name": "Python 3 (ipykernel)",
   "language": "python",
   "name": "python3"
  },
  "language_info": {
   "codemirror_mode": {
    "name": "ipython",
    "version": 3
   },
   "file_extension": ".py",
   "mimetype": "text/x-python",
   "name": "python",
   "nbconvert_exporter": "python",
   "pygments_lexer": "ipython3",
   "version": "3.9.16"
  }
 },
 "nbformat": 4,
 "nbformat_minor": 1
}
