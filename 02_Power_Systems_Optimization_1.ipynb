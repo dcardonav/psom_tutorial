{
 "cells": [
  {
   "cell_type": "markdown",
   "metadata": {},
   "source": [
    "# Aggregation of Power Systems Optimization Models - Part I\n",
    "\n",
    "Consider the following model:\n",
    "\n",
    "![alt text](model.png \"Model\")\n",
    "\n",
    "The goal is to find $r$ such that $|r|<<|h|$ but keeping results as close as posible to thoseobtained with $h$.\n",
    "\n",
    "In the following cells an example is shown using a testbed using **Pyomo** to run aggregated and complete versions of this model.\n"
   ]
  },
  {
   "cell_type": "code",
   "execution_count": 1,
   "metadata": {},
   "outputs": [],
   "source": [
    "import os\n",
    "import pyomo.environ as pyo\n",
    "import testbed\n",
    "from importlib import reload\n"
   ]
  },
  {
   "cell_type": "code",
   "execution_count": 2,
   "metadata": {},
   "outputs": [],
   "source": [
    "# We can export the variables, first create a folder and then export the results\n",
    "reload(testbed)\n",
    "results_complete = testbed.run_complete_case(folder='data', case='complete_single_node.xlsx', solver='gurobi')\n",
    "testbed.export_complete_solution(results_complete, 'complete_single_node', solver='gurobi')\n",
    "\n",
    "# exporting the duals\n",
    "testbed.extract_duals(model=results_complete, folder='complete_single_node')"
   ]
  },
  {
   "cell_type": "code",
   "execution_count": 5,
   "metadata": {},
   "outputs": [
    {
     "name": "stdout",
     "output_type": "stream",
     "text": [
      "The aggregated objective function value of bs1 was 623.45\n",
      "The solution for bs1 was\n",
      "-------------------------\n",
      "vGen[t1,1] = 0.00\n",
      "vGen[w1,1] = 207.82\n",
      "vNSP[1] = 0.00\n",
      "\n",
      "\n",
      "The aggregated objective function value of bs2 was 8430.09\n",
      "The solution for bs2 was\n",
      "-------------------------\n",
      "vGen[t1,1] = 335.16\n",
      "vGen[w1,1] = 128.74\n",
      "vNSP[1] = 0.00\n"
     ]
    }
   ],
   "source": [
    "results = testbed.basis_execution(folder=os.path.join('data', 'aggregated_single'), # location of the aggregated model\n",
    "                                  file='config.yaml')                               # configuration file with aggregation information\n",
    "\n",
    "# the example file has two aggregated models, bs1 and bs2, from which we can obtain their solutions\n",
    "# IMPORTANT:\n",
    "# ----------\n",
    "# The aggregated objective function value corresponds to the solution of each aggregated model times the number of times it occurs\n",
    "\n",
    "print(f\"The aggregated objective function value of bs1 was {pyo.value(results['bs1']['model'].z):.2f}\")\n",
    "print(\"The solution for bs1 was\")\n",
    "print(\"-------------------------\")\n",
    "for v in results['bs1']['model'].component_objects(ctype=pyo.Var):\n",
    "    for index in v:\n",
    "        print(f'{v[index]} = {pyo.value(v[index]):.2f}')\n",
    "print(\"\\n\")\n",
    "print(f\"The aggregated objective function value of bs2 was {pyo.value(results['bs2']['model'].z):.2f}\")\n",
    "print(\"The solution for bs2 was\")\n",
    "print(\"-------------------------\")\n",
    "for v in results['bs2']['model'].component_objects(ctype=pyo.Var):\n",
    "    for index in v:\n",
    "        print(f'{v[index]} = {pyo.value(v[index]):.2f}')"
   ]
  },
  {
   "cell_type": "code",
   "execution_count": 6,
   "metadata": {},
   "outputs": [],
   "source": [
    "# The results can also be exported\n",
    "results = testbed.basis_execution(folder=os.path.join('data', 'aggregated_single'), file='config.yaml')\n",
    "testbed.export_aggregated_solution(results, 'aggregated_single_node')\n"
   ]
  },
  {
   "cell_type": "code",
   "execution_count": null,
   "metadata": {},
   "outputs": [],
   "source": [
    "# The duals of the models can also be exported\n",
    "\n"
   ]
  }
 ],
 "metadata": {
  "kernelspec": {
   "display_name": "Python 3 (ipykernel)",
   "language": "python",
   "name": "python3"
  },
  "language_info": {
   "codemirror_mode": {
    "name": "ipython",
    "version": 3
   },
   "file_extension": ".py",
   "mimetype": "text/x-python",
   "name": "python",
   "nbconvert_exporter": "python",
   "pygments_lexer": "ipython3",
   "version": "3.9.16"
  }
 },
 "nbformat": 4,
 "nbformat_minor": 1
}
