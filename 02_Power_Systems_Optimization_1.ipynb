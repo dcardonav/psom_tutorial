{
 "cells": [
  {
   "cell_type": "markdown",
   "metadata": {},
   "source": [
    "# Aggregation of Power Systems Optimization Models - Part I\n",
    "\n",
    "Consider the following model:\n",
    "\n",
    "![alt text](model.png \"Model\")\n",
    "\n",
    "The goal is to find $r$ such that $|r|<<|h|$ but keeping results as close as posible to thoseobtained with $h$.\n",
    "\n",
    "In the following cells an example is shown using a testbed using **Pyomo** to run aggregated and complete versions of this model.\n"
   ]
  },
  {
   "cell_type": "code",
   "execution_count": 22,
   "metadata": {},
   "outputs": [],
   "source": [
    "import os\n",
    "import pyomo.environ as pyo\n",
    "import testbed\n",
    "from importlib import reload\n"
   ]
  },
  {
   "cell_type": "code",
   "execution_count": 29,
   "metadata": {},
   "outputs": [],
   "source": [
    "# We can export the variables, first create a folder and then export the results\n",
    "slvr = 'gurobi'     # change according to the solver installed in your machine\n",
    "reload(testbed)\n",
    "results_complete = testbed.run_complete_case(folder='data', case='complete_single_node.xlsx', solver=slvr)\n",
    "# exporting the duals\n",
    "df_duals_complete = testbed.extract_duals(model=results_complete, folder='complete_single_node')\n",
    "df_complete = testbed.export_complete_solution(results_complete, '.')"
   ]
  },
  {
   "cell_type": "code",
   "execution_count": 30,
   "metadata": {},
   "outputs": [],
   "source": [
    "results = testbed.basis_execution(folder=os.path.join('data', 'aggregated_single'), # location of the aggregated model\n",
    "                                  solver=slvr, file='config.xlsx')                  # configuration file with aggregation information\n",
    "df_results = testbed.export_aggregated_solution(results, 'aggregated_single')\n",
    "models = testbed.basis_execution(folder='data/aggregated_single')\n",
    "df_agg = testbed.export_aggregated_solution(models, 'aggregated_single')\n",
    "df_comparison = testbed.export_model_comparison(df_complete, df_agg)"
   ]
  },
  {
   "cell_type": "code",
   "execution_count": 32,
   "outputs": [
    {
     "data": {
      "text/plain": "  basis    of_value   thermal  renewable  nsp  weight\n0   bs1   9174000.0  278000.0   834000.0  0.0    5560\n1   bs2  13950000.0  450000.0  1050000.0  0.0    3000",
      "text/html": "<div>\n<style scoped>\n    .dataframe tbody tr th:only-of-type {\n        vertical-align: middle;\n    }\n\n    .dataframe tbody tr th {\n        vertical-align: top;\n    }\n\n    .dataframe thead th {\n        text-align: right;\n    }\n</style>\n<table border=\"1\" class=\"dataframe\">\n  <thead>\n    <tr style=\"text-align: right;\">\n      <th></th>\n      <th>basis</th>\n      <th>of_value</th>\n      <th>thermal</th>\n      <th>renewable</th>\n      <th>nsp</th>\n      <th>weight</th>\n    </tr>\n  </thead>\n  <tbody>\n    <tr>\n      <th>0</th>\n      <td>bs1</td>\n      <td>9174000.0</td>\n      <td>278000.0</td>\n      <td>834000.0</td>\n      <td>0.0</td>\n      <td>5560</td>\n    </tr>\n    <tr>\n      <th>1</th>\n      <td>bs2</td>\n      <td>13950000.0</td>\n      <td>450000.0</td>\n      <td>1050000.0</td>\n      <td>0.0</td>\n      <td>3000</td>\n    </tr>\n  </tbody>\n</table>\n</div>"
     },
     "execution_count": 32,
     "metadata": {},
     "output_type": "execute_result"
    }
   ],
   "source": [
    "df_agg"
   ],
   "metadata": {
    "collapsed": false
   }
  },
  {
   "cell_type": "code",
   "execution_count": 33,
   "outputs": [
    {
     "data": {
      "text/plain": "      result      complete  aggregated         delta\n0   of_value  6.387533e+07  23124000.0  4.075133e+07\n1    thermal  2.505880e+06    728000.0  1.777880e+06\n2  renewable  1.244741e+06   1884000.0 -6.392594e+05\n3        nsp  0.000000e+00         0.0  0.000000e+00",
      "text/html": "<div>\n<style scoped>\n    .dataframe tbody tr th:only-of-type {\n        vertical-align: middle;\n    }\n\n    .dataframe tbody tr th {\n        vertical-align: top;\n    }\n\n    .dataframe thead th {\n        text-align: right;\n    }\n</style>\n<table border=\"1\" class=\"dataframe\">\n  <thead>\n    <tr style=\"text-align: right;\">\n      <th></th>\n      <th>result</th>\n      <th>complete</th>\n      <th>aggregated</th>\n      <th>delta</th>\n    </tr>\n  </thead>\n  <tbody>\n    <tr>\n      <th>0</th>\n      <td>of_value</td>\n      <td>6.387533e+07</td>\n      <td>23124000.0</td>\n      <td>4.075133e+07</td>\n    </tr>\n    <tr>\n      <th>1</th>\n      <td>thermal</td>\n      <td>2.505880e+06</td>\n      <td>728000.0</td>\n      <td>1.777880e+06</td>\n    </tr>\n    <tr>\n      <th>2</th>\n      <td>renewable</td>\n      <td>1.244741e+06</td>\n      <td>1884000.0</td>\n      <td>-6.392594e+05</td>\n    </tr>\n    <tr>\n      <th>3</th>\n      <td>nsp</td>\n      <td>0.000000e+00</td>\n      <td>0.0</td>\n      <td>0.000000e+00</td>\n    </tr>\n  </tbody>\n</table>\n</div>"
     },
     "execution_count": 33,
     "metadata": {},
     "output_type": "execute_result"
    }
   ],
   "source": [
    "df_comparison"
   ],
   "metadata": {
    "collapsed": false
   }
  }
 ],
 "metadata": {
  "kernelspec": {
   "display_name": "Python 3 (ipykernel)",
   "language": "python",
   "name": "python3"
  },
  "language_info": {
   "codemirror_mode": {
    "name": "ipython",
    "version": 3
   },
   "file_extension": ".py",
   "mimetype": "text/x-python",
   "name": "python",
   "nbconvert_exporter": "python",
   "pygments_lexer": "ipython3",
   "version": "3.9.16"
  }
 },
 "nbformat": 4,
 "nbformat_minor": 1
}
